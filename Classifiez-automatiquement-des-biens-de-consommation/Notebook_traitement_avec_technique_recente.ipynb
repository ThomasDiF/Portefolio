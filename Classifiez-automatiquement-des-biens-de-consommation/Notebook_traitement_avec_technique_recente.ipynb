{
 "cells": [
  {
   "cell_type": "markdown",
   "metadata": {},
   "source": [
    "# Préparation du dataset"
   ]
  },
  {
   "cell_type": "code",
   "execution_count": 1,
   "metadata": {
    "scrolled": true
   },
   "outputs": [
    {
     "name": "stdout",
     "output_type": "stream",
     "text": [
      "Num GPUs Available:  0\n"
     ]
    }
   ],
   "source": [
    "import pandas as pd\n",
    "import numpy as np\n",
    "import matplotlib.pyplot as plt\n",
    "import seaborn as sns\n",
    "%matplotlib inline\n",
    "import os\n",
    "import cv2\n",
    "from os import listdir\n",
    "from sklearn.model_selection import train_test_split\n",
    "from sklearn.metrics import accuracy_score, auc, roc_auc_score, roc_curve\n",
    "from glob import glob\n",
    "from matplotlib.image import imread\n",
    "import tensorflow as tf\n",
    "from tensorflow.keras.models import Model, Sequential\n",
    "from tensorflow.keras.layers import GlobalAveragePooling2D, GlobalAveragePooling1D, Flatten, Dense, Dropout \n",
    "from tensorflow.keras.layers import Rescaling, RandomFlip, RandomRotation, RandomZoom\n",
    "from tensorflow.keras.callbacks import EarlyStopping, ModelCheckpoint\n",
    "from tensorflow.keras.applications.vgg16 import VGG16\n",
    "from tensorflow.keras.applications.vgg16 import preprocess_input\n",
    "from tensorflow.keras.preprocessing.image import load_img, img_to_array\n",
    "from tensorflow.keras.utils import to_categorical\n",
    "\n",
    "# os.environ[\"TF_KERAS\"]='1'\n",
    "print(\"Num GPUs Available: \", len(tf.config.list_physical_devices('GPU')))"
   ]
  },
  {
   "cell_type": "code",
   "execution_count": 2,
   "metadata": {},
   "outputs": [
    {
     "name": "stdout",
     "output_type": "stream",
     "text": [
      "                                          image_path  \\\n",
      "0  C:/Users/DELL/Desktop/OpenClass/Formation/Proj...   \n",
      "1  C:/Users/DELL/Desktop/OpenClass/Formation/Proj...   \n",
      "2  C:/Users/DELL/Desktop/OpenClass/Formation/Proj...   \n",
      "3  C:/Users/DELL/Desktop/OpenClass/Formation/Proj...   \n",
      "4  C:/Users/DELL/Desktop/OpenClass/Formation/Proj...   \n",
      "\n",
      "                            uniq_id                label_name  label  \n",
      "0  009099b1f6e1e8f893ec29a7023153c4                   Watches      6  \n",
      "1  0096e89cc25a8b96fb9808716406fe94          Kitchen & Dining      5  \n",
      "2  00cbbc837d340fa163d11e169fbdb952           Home Furnishing      4  \n",
      "3  00d84a518e0550612fcfcba3b02b6255  Beauty and Personal Care      1  \n",
      "4  00e966a5049a262cfc72e6bbf68b80e7                 Computers      2  \n",
      "Empty DataFrame\n",
      "Columns: [image_path, uniq_id, label_name, label]\n",
      "Index: []\n"
     ]
    }
   ],
   "source": [
    "import pandas as pd\n",
    "import os\n",
    "from glob import glob\n",
    "from sklearn import preprocessing\n",
    "\n",
    "# Chemin vers le fichier CSV contenant les données de catégories\n",
    "csv_path = 'C:/Users/DELL/Desktop/OpenClass/Formation/Projet_006/Dataset_projet_pretraitement_textes_images/Flipkart/flipkart_com-ecommerce_sample_1050_champ.csv'\n",
    "\n",
    "# Chargement du DataFrame qui contient les informations des produits, y compris 'product_category_tree'\n",
    "df_categories = pd.read_csv(csv_path)\n",
    "\n",
    "# Fonction pour extraire la première catégorie de 'product_category_tree'\n",
    "def get_first_category(category_tree):\n",
    "    if category_tree.startswith('[\"'):\n",
    "        categories = category_tree[2:-2].split(' >> ')\n",
    "        if categories:\n",
    "            return categories[0]\n",
    "    return None\n",
    "\n",
    "# Appliquer la fonction pour créer une nouvelle colonne 'first_category'\n",
    "df_categories['first_category'] = df_categories['product_category_tree'].apply(get_first_category)\n",
    "\n",
    "# Chemin vers le dossier des images\n",
    "images_path = 'C:/Users/DELL/Desktop/OpenClass/Formation/Projet_006/Dataset_projet_pretraitement_textes_images/Flipkart/Images/'\n",
    "images_path_test = 'C:/Users/DELL/Desktop/OpenClass/Formation/Projet_006/Dataset_projet_pretraitement_textes_images/Flipkart/Images2/'\n",
    "\n",
    "# Récupération des chemins des images\n",
    "data_path = glob(os.path.join(images_path, '*.jpg'))\n",
    "data_path_test = glob(os.path.join(images_path_test, '*.jpg'))\n",
    "\n",
    "# Création d'un DataFrame pour les chemins des images avec leur uniq_id\n",
    "df_images = pd.DataFrame({\n",
    "    'image_path': data_path,\n",
    "    'uniq_id': [os.path.splitext(os.path.basename(path))[0] for path in data_path]\n",
    "})\n",
    "df_images_test = pd.DataFrame({\n",
    "    'image_path': data_path_test,\n",
    "    'uniq_id': [os.path.splitext(os.path.basename(path))[0] for path in data_path_test]\n",
    "})\n",
    "# Fonction pour obtenir la catégorie à partir de l'identifiant unique\n",
    "def photo_class(uniq_id):\n",
    "    category = df_categories.loc[df_categories['uniq_id'] == uniq_id, 'first_category'].values\n",
    "    if category.size > 0:\n",
    "        return category[0]\n",
    "    return \"no_name\"\n",
    "\n",
    "# Liste des catégories valides\n",
    "list_labels = [\"Baby Care\", \"Beauty and Personal Care\", \"Computers\", \"Home Decor & Festive Needs\", \"Home Furnishing\", \"Kitchen & Dining\", \"Watches\"]\n",
    "\n",
    "# Associer les catégories aux images\n",
    "df_images['label_name'] = df_images['uniq_id'].apply(photo_class)\n",
    "df_images_test['label_name'] = df_images_test['uniq_id'].apply(photo_class)\n",
    "\n",
    "# Encoder les labels\n",
    "le = preprocessing.LabelEncoder()\n",
    "le.fit(df_images['label_name'])\n",
    "df_images['label'] = le.transform(df_images['label_name'])\n",
    "le.fit(df_images_test['label_name'])\n",
    "df_images_test['label'] = le.transform(df_images_test['label_name'])\n",
    "\n",
    "# Vérification des données finales\n",
    "print(df_images.head())\n",
    "print(df_images_test.head())\n",
    "# Maintenant, df_images contient le chemin de chaque image, son uniq_id, le nom de la catégorie, et la catégorie encodée.\n",
    "# Ce DataFrame est prêt pour tout traitement d'image supplémentaire ou pour être utilisé pour l'entraînement de modèles.\n"
   ]
  },
  {
   "cell_type": "code",
   "execution_count": 3,
   "metadata": {
    "scrolled": false
   },
   "outputs": [],
   "source": [
    "from matplotlib.image import imread\n",
    "\n",
    "def list_fct(name) :\n",
    "    list_image_name = [df_images[\"image_path\"][i] for i in range(len(df_images)) if df_images[\"label_name\"][i]==name]\n",
    "    return list_image_name\n",
    "\n",
    "list_BC=[df_images[\"image_path\"][i] for i in range(len(df_images)) if df_images[\"label_name\"][i]==\"Baby Care\"]\n",
    "list_BPC=[df_images[\"image_path\"][i] for i in range(len(df_images)) if df_images[\"label_name\"][i]==\"Beauty and Personal Care\"]\n",
    "list_Computers=[df_images[\"image_path\"][i] for i in range(len(df_images)) if df_images[\"label_name\"][i]==\"Computers\"]\n",
    "list_HDFN=[df_images[\"image_path\"][i] for i in range(len(df_images)) if df_images[\"label_name\"][i]==\"Home Decor & Festive Needs\"]\n",
    "list_HF=[df_images[\"image_path\"][i] for i in range(len(df_images)) if df_images[\"label_name\"][i]==\"Home Furnishing\"]\n",
    "list_KD=[df_images[\"image_path\"][i] for i in range(len(df_images)) if df_images[\"label_name\"][i]==\"Kitchen & Dining\"]\n",
    "list_Watches=[df_images[\"image_path\"][i] for i in range(len(df_images)) if df_images[\"label_name\"][i]==\"Watches\"]\n",
    "list_Food=[df_images[\"image_path\"][i] for i in range(len(df_images)) if df_images[\"label_name\"][i]==\"food\"]\n"
   ]
  },
  {
   "cell_type": "markdown",
   "metadata": {},
   "source": [
    "# Etape 2 : classification supervisée\n",
    "2 approches sont présentées :\n",
    "* Une approche récente proposée par Tensorflow.org par DataSet, sans data augmentation\n",
    "* Une approche par  DataSet, avec data augmentation intégrée au modèle : layer en début de modèle"
   ]
  },
  {
   "cell_type": "markdown",
   "metadata": {},
   "source": [
    "# VIT"
   ]
  },
  {
   "cell_type": "markdown",
   "metadata": {},
   "source": [
    "## Création du modèle de classification"
   ]
  },
  {
   "cell_type": "code",
   "execution_count": 4,
   "metadata": {},
   "outputs": [
    {
     "name": "stderr",
     "output_type": "stream",
     "text": [
      "c:\\Users\\DELL\\anaconda3\\envs\\2024\\Lib\\site-packages\\tqdm\\auto.py:21: TqdmWarning: IProgress not found. Please update jupyter and ipywidgets. See https://ipywidgets.readthedocs.io/en/stable/user_install.html\n",
      "  from .autonotebook import tqdm as notebook_tqdm\n"
     ]
    }
   ],
   "source": [
    "import torch\n",
    "from torchvision import transforms\n",
    "\n",
    "preprocess = transforms.Compose([\n",
    "    transforms.Resize(256),              # Redimensionner l'image pour être légèrement plus grande que la taille cible\n",
    "    transforms.CenterCrop(224),          # Découper au centre pour obtenir la dimension finale\n",
    "    transforms.ToTensor(),               # Convertir en tensor PyTorch\n",
    "    transforms.Normalize(mean=[0.485, 0.456, 0.406], std=[0.229, 0.224, 0.225])  # Normaliser avec les moyennes et écarts-types d'ImageNet\n",
    "])\n"
   ]
  },
  {
   "cell_type": "code",
   "execution_count": 5,
   "metadata": {
    "scrolled": true
   },
   "outputs": [],
   "source": [
    "import timm\n",
    "import torch.nn as nn\n",
    "\n",
    "# Charger un modèle ViT pré-entraîné\n",
    "model = timm.create_model('vit_base_patch16_224', pretrained=True)\n",
    "\n",
    "# Remplacer la dernière couche pour le nombre de classes spécifique à votre tâche\n",
    "model.head = nn.Linear(model.head.in_features, 3)  # Remplacer 'nombre_de_classes' par le nombre de vos classes\n"
   ]
  },
  {
   "cell_type": "markdown",
   "metadata": {},
   "source": [
    "## Approche nouvelle par Dataset sans data augmentation\n",
    "\n",
    "CF https://www.tensorflow.org/tutorials/load_data/images"
   ]
  },
  {
   "cell_type": "code",
   "execution_count": 6,
   "metadata": {},
   "outputs": [
    {
     "name": "stdout",
     "output_type": "stream",
     "text": [
      "Empty DataFrame\n",
      "Columns: [image_path, uniq_id, label_name, label]\n",
      "Index: []\n",
      "Empty DataFrame\n",
      "Columns: [image_path, uniq_id, label_name, label]\n",
      "Index: []\n"
     ]
    }
   ],
   "source": [
    "import pandas as pd\n",
    "import os\n",
    "from glob import glob\n",
    "from sklearn import preprocessing\n",
    "\n",
    "# Chemin vers le fichier CSV contenant les données de catégories\n",
    "csv_path = 'C:/Users/DELL/Desktop/OpenClass/Formation/Projet_006/Dataset_projet_pretraitement_textes_images/Flipkart/flipkart_com-ecommerce_sample_1050_Champ.csv'\n",
    "\n",
    "# Chargement du DataFrame qui contient les informations des produits, y compris 'product_category_tree'\n",
    "df_categories = pd.read_csv(csv_path)\n",
    "\n",
    "# Fonction pour extraire la première catégorie de 'product_category_tree'\n",
    "def get_first_category(category_tree):\n",
    "    if category_tree.startswith('[\"'):\n",
    "        categories = category_tree[2:-2].split(' >> ')\n",
    "        if categories:\n",
    "            return categories[0]\n",
    "    return None\n",
    "\n",
    "# Appliquer la fonction pour créer une nouvelle colonne 'first_category'\n",
    "df_categories['first_category'] = df_categories['product_category_tree'].apply(get_first_category)\n",
    "\n",
    "# Chemin vers le dossier des images\n",
    "images_path = 'C:/Users/DELL/Desktop/OpenClass/Formation/Projet_006/Dataset_projet_pretraitement_textes_images/Flipkart/Images2/'\n",
    "images_path_test = 'C:/Users/DELL/Desktop/OpenClass/Formation/Projet_006/Dataset_projet_pretraitement_textes_images/Flipkart/Images3/'\n",
    "\n",
    "# Récupération des chemins des images\n",
    "data_path = glob(os.path.join(images_path, '*.jpg'))\n",
    "data_path_test = glob(os.path.join(images_path_test, '*.jpg'))\n",
    "\n",
    "# Création d'un DataFrame pour les chemins des images avec leur uniq_id\n",
    "df_images = pd.DataFrame({\n",
    "    'image_path': data_path,\n",
    "    'uniq_id': [os.path.splitext(os.path.basename(path))[0] for path in data_path]\n",
    "})\n",
    "df_images_test = pd.DataFrame({\n",
    "    'image_path': data_path_test,\n",
    "    'uniq_id': [os.path.splitext(os.path.basename(path))[0] for path in data_path]\n",
    "})\n",
    "# Fonction pour obtenir la catégorie à partir de l'identifiant unique\n",
    "def photo_class(uniq_id):\n",
    "    category = df_categories.loc[df_categories['uniq_id'] == uniq_id, 'first_category'].values\n",
    "    if category.size > 0:\n",
    "        return category[0]\n",
    "    return \"no_name\"\n",
    "\n",
    "# Liste des catégories valides\n",
    "list_labels = [\"Baby Care\", \"Beauty and Personal Care\", \"Computers\", \"Home Decor & Festive Needs\", \"Home Furnishing\", \"Kitchen & Dining\", \"Watches\"]\n",
    "\n",
    "# Associer les catégories aux images\n",
    "df_images['label_name'] = df_images['uniq_id'].apply(photo_class)\n",
    "df_images_test['label_name'] = df_images_test['uniq_id'].apply(photo_class)\n",
    "\n",
    "# Encoder les labels\n",
    "le = preprocessing.LabelEncoder()\n",
    "le.fit(df_images['label_name'])\n",
    "df_images['label'] = le.transform(df_images['label_name'])\n",
    "le.fit(df_images_test['label_name'])\n",
    "df_images_test['label'] = le.transform(df_images_test['label_name'])\n",
    "\n",
    "# Vérification des données finales\n",
    "print(df_images.head())\n",
    "print(df_images_test.head())\n",
    "# Maintenant, df_images contient le chemin de chaque image, son uniq_id, le nom de la catégorie, et la catégorie encodée.\n",
    "# Ce DataFrame est prêt pour tout traitement d'image supplémentaire ou pour être utilisé pour l'entraînement de modèles.\n"
   ]
  },
  {
   "cell_type": "code",
   "execution_count": 7,
   "metadata": {},
   "outputs": [],
   "source": [
    "import timm\n",
    "import torch\n",
    "import torch.nn as nn\n",
    "from torch.optim import Adam\n",
    "from torch.utils.data import DataLoader\n",
    "from torchvision import datasets, transforms\n",
    "\n",
    "\n"
   ]
  },
  {
   "cell_type": "code",
   "execution_count": 8,
   "metadata": {},
   "outputs": [],
   "source": [
    "from torchvision.datasets import ImageFolder\n",
    "from torch.utils.data import DataLoader\n",
    "from torchvision import transforms\n",
    "\n",
    "# Transformations pour l'entraînement et la validation sans augmentation\n",
    "basic_transforms = transforms.Compose([\n",
    "    transforms.Resize(256),\n",
    "    transforms.CenterCrop(224),\n",
    "    transforms.ToTensor(),\n",
    "    transforms.Normalize(mean=[0.485, 0.456, 0.406], std=[0.229, 0.224, 0.225])  # Normalisation pour pré-entraînement sur ImageNet\n",
    "])\n",
    "\n",
    "# Chemin vers vos dossiers de données\n",
    "train_data_path = images_path\n",
    "val_data_path = images_path_test\n",
    "\n",
    "# Création des datasets avec les mêmes transformations pour le train et le val\n",
    "train_dataset = ImageFolder(root=train_data_path, transform=basic_transforms)\n",
    "val_dataset = ImageFolder(root=val_data_path, transform=basic_transforms)\n",
    "\n",
    "# Création des DataLoaders\n",
    "train_loader = DataLoader(train_dataset, batch_size=32, shuffle=True, num_workers=4)\n",
    "val_loader = DataLoader(val_dataset, batch_size=32, shuffle=False, num_workers=4)"
   ]
  },
  {
   "cell_type": "code",
   "execution_count": 9,
   "metadata": {},
   "outputs": [],
   "source": [
    "criterion = nn.CrossEntropyLoss()\n",
    "optimizer = Adam(model.parameters(), lr=0.001)\n"
   ]
  },
  {
   "cell_type": "code",
   "execution_count": 10,
   "metadata": {},
   "outputs": [],
   "source": [
    "# Définir la taille du batch\n",
    "batch_size = 8\n",
    "\n",
    "# Créer les DataLoaders pour le training et la validation\n",
    "train_loader = DataLoader(train_dataset, batch_size=batch_size, shuffle=True)\n",
    "val_loader = DataLoader(val_dataset, batch_size=batch_size, shuffle=False)\n"
   ]
  },
  {
   "cell_type": "code",
   "execution_count": 11,
   "metadata": {},
   "outputs": [],
   "source": [
    "def train_model(model, criterion, optimizer, train_loader, val_loader, epochs=10):\n",
    "    train_losses, val_losses, train_accuracy, val_accuracy = [], [], [], []\n",
    "    \n",
    "    for epoch in range(epochs):\n",
    "        model.train()\n",
    "        running_loss = 0.0\n",
    "        correct = 0\n",
    "        total = 0\n",
    "        \n",
    "        for inputs, labels in train_loader:\n",
    "            outputs = model(inputs)\n",
    "            loss = criterion(outputs, labels)\n",
    "            optimizer.zero_grad()\n",
    "            loss.backward()\n",
    "            optimizer.step()\n",
    "            \n",
    "            running_loss += loss.item() * inputs.size(0)\n",
    "            _, predicted = torch.max(outputs.data, 1)\n",
    "            total += labels.size(0)\n",
    "            correct += (predicted == labels).sum().item()\n",
    "\n",
    "        train_losses.append(running_loss / len(train_loader.dataset))\n",
    "        train_accuracy.append(100 * correct / total)\n",
    "\n",
    "        # Validation loss\n",
    "        model.eval()\n",
    "        val_loss = 0.0\n",
    "        correct = 0\n",
    "        total = 0\n",
    "        \n",
    "        with torch.no_grad():\n",
    "            for inputs, labels in val_loader:\n",
    "                outputs = model(inputs)\n",
    "                loss = criterion(outputs, labels)\n",
    "                val_loss += loss.item() * inputs.size(0)\n",
    "                _, predicted = torch.max(outputs.data, 1)\n",
    "                total += labels.size(0)\n",
    "                correct += (predicted == labels).sum().item()\n",
    "        \n",
    "        val_losses.append(val_loss / len(val_loader.dataset))\n",
    "        val_accuracy.append(100 * correct / total)\n",
    "        \n",
    "        print(f'Epoch {epoch+1}, Train Loss: {train_losses[-1]:.4f}, Train Acc: {train_accuracy[-1]:.2f}, Val Loss: {val_losses[-1]:.4f}, Val Acc: {val_accuracy[-1]:.2f}')\n",
    "        \n",
    "    return train_losses, val_losses, train_accuracy, val_accuracy\n"
   ]
  },
  {
   "cell_type": "code",
   "execution_count": 12,
   "metadata": {},
   "outputs": [
    {
     "name": "stderr",
     "output_type": "stream",
     "text": [
      "c:\\Users\\DELL\\anaconda3\\envs\\2024\\Lib\\site-packages\\PIL\\Image.py:3186: DecompressionBombWarning: Image size (93680328 pixels) exceeds limit of 89478485 pixels, could be decompression bomb DOS attack.\n",
      "  warnings.warn(\n"
     ]
    },
    {
     "name": "stdout",
     "output_type": "stream",
     "text": [
      "Epoch 1, Train Loss: 1.1938, Train Acc: 66.13, Val Loss: 0.8444, Val Acc: 71.25\n",
      "Epoch 2, Train Loss: 0.8511, Train Acc: 71.25, Val Loss: 0.8227, Val Acc: 71.25\n",
      "Epoch 3, Train Loss: 0.8203, Train Acc: 71.25, Val Loss: 0.7989, Val Acc: 71.25\n",
      "Epoch 4, Train Loss: 0.8226, Train Acc: 71.25, Val Loss: 0.8239, Val Acc: 71.25\n",
      "Epoch 5, Train Loss: 0.8163, Train Acc: 71.25, Val Loss: 0.8159, Val Acc: 71.25\n",
      "Epoch 6, Train Loss: 0.8183, Train Acc: 71.25, Val Loss: 0.7991, Val Acc: 71.25\n",
      "Epoch 7, Train Loss: 0.8111, Train Acc: 71.25, Val Loss: 0.8029, Val Acc: 71.25\n",
      "Epoch 8, Train Loss: 0.8069, Train Acc: 71.25, Val Loss: 0.7943, Val Acc: 71.25\n",
      "Epoch 9, Train Loss: 0.8408, Train Acc: 70.02, Val Loss: 0.8799, Val Acc: 71.25\n",
      "Epoch 10, Train Loss: 0.8180, Train Acc: 71.25, Val Loss: 0.7990, Val Acc: 71.25\n"
     ]
    }
   ],
   "source": [
    "try:\n",
    "    train_model(model, criterion, optimizer, train_loader, val_loader, epochs=10)\n",
    "    train_losses, val_losses, train_accuracy, val_accuracy = [], [], [], []\n",
    "except Exception as e:\n",
    "    print(f\"Une erreur est survenue : {e}\")\n"
   ]
  },
  {
   "cell_type": "code",
   "execution_count": 14,
   "metadata": {},
   "outputs": [
    {
     "name": "stdout",
     "output_type": "stream",
     "text": [
      "Epoch 1, Train Loss: 0.8077, Train Acc: 71.25, Val Loss: 0.8059, Val Acc: 71.25\n",
      "Epoch 2, Train Loss: 0.8087, Train Acc: 71.25, Val Loss: 0.7994, Val Acc: 71.25\n",
      "Epoch 3, Train Loss: 0.8072, Train Acc: 71.25, Val Loss: 0.8201, Val Acc: 71.25\n",
      "Epoch 4, Train Loss: 0.8150, Train Acc: 71.25, Val Loss: 0.8066, Val Acc: 71.25\n",
      "Epoch 5, Train Loss: 0.8134, Train Acc: 71.25, Val Loss: 0.7984, Val Acc: 71.25\n",
      "Epoch 6, Train Loss: 0.8211, Train Acc: 71.06, Val Loss: 0.8001, Val Acc: 71.25\n",
      "Epoch 7, Train Loss: 0.8119, Train Acc: 71.25, Val Loss: 0.7996, Val Acc: 71.25\n",
      "Epoch 8, Train Loss: 0.8112, Train Acc: 71.25, Val Loss: 0.8032, Val Acc: 71.25\n",
      "Epoch 9, Train Loss: 0.8097, Train Acc: 71.25, Val Loss: 0.7983, Val Acc: 71.25\n",
      "Epoch 10, Train Loss: 0.8134, Train Acc: 71.25, Val Loss: 0.8051, Val Acc: 71.25\n"
     ]
    },
    {
     "data": {
      "image/png": "[encoded data removed]",
      "text/plain": [
       "<Figure size 1200x500 with 2 Axes>"
      ]
     },
     "metadata": {},
     "output_type": "display_data"
    }
   ],
   "source": [
    "import matplotlib.pyplot as plt\n",
    "\n",
    "def plot_metrics(train_losses, val_losses, train_accuracy, val_accuracy):\n",
    "    epochs = range(1, len(train_losses) + 1)\n",
    "    \n",
    "    plt.figure(figsize=(12, 5))\n",
    "    plt.subplot(1, 2, 1)\n",
    "    plt.plot(epochs, train_losses, 'bo-', label='Training Loss')\n",
    "    plt.plot(epochs, val_losses, 'ro-', label='Validation Loss')\n",
    "    plt.title('Training and Validation Loss')\n",
    "    plt.xlabel('Epochs')\n",
    "    plt.ylabel('Loss')\n",
    "    plt.legend()\n",
    "    \n",
    "    plt.subplot(1, 2, 2)\n",
    "    plt.plot(epochs, train_accuracy, 'bo-', label='Training Accuracy')\n",
    "    plt.plot(epochs, val_accuracy, 'ro-', label='Validation Accuracy')\n",
    "    plt.title('Training and Validation Accuracy')\n",
    "    plt.xlabel('Epochs')\n",
    "    plt.ylabel('Accuracy')\n",
    "    plt.legend()\n",
    "    \n",
    "    plt.tight_layout()\n",
    "    plt.show()\n",
    "\n",
    "# Utilisez cette fonction après votre entraînement pour afficher les graphiques\n",
    "train_losses, val_losses, train_accuracy, val_accuracy = train_model(model, criterion, optimizer, train_loader, val_loader, epochs=10)\n",
    "plot_metrics(train_losses, val_losses, train_accuracy, val_accuracy)\n"
   ]
  },
  {
   "cell_type": "markdown",
   "metadata": {},
   "source": [
    "## Approche nouvelle par Dataset avec data augmentation intégrée au modèle\n",
    "\n",
    "CF https://www.tensorflow.org/tutorials/images/data_augmentation"
   ]
  },
  {
   "cell_type": "code",
   "execution_count": 15,
   "metadata": {},
   "outputs": [],
   "source": [
    "from torchvision import transforms\n",
    "\n",
    "train_transforms = transforms.Compose([\n",
    "    transforms.RandomResizedCrop(224),  # Recadrage aléatoire de l'image et redimensionnement à 224x224\n",
    "    transforms.RandomHorizontalFlip(),  # Inversion horizontale aléatoire\n",
    "    transforms.RandomRotation(15),  # Rotation aléatoire dans une plage de -15 à 15 degrés\n",
    "    transforms.ColorJitter(brightness=0.1, contrast=0.1, saturation=0.1, hue=0.1),  # Modification aléatoire de la luminosité, du contraste, de la saturation et de la teinte\n",
    "    transforms.ToTensor(),\n",
    "    transforms.Normalize(mean=[0.485, 0.456, 0.406], std=[0.229, 0.224, 0.225])  # Normalisation pour pré-entraînement sur ImageNet\n",
    "])\n",
    "\n",
    "val_transforms = transforms.Compose([\n",
    "    transforms.Resize(256),\n",
    "    transforms.CenterCrop(224),\n",
    "    transforms.ToTensor(),\n",
    "    transforms.Normalize(mean=[0.485, 0.456, 0.406], std=[0.229, 0.224, 0.225])\n",
    "])\n"
   ]
  },
  {
   "cell_type": "code",
   "execution_count": 16,
   "metadata": {},
   "outputs": [],
   "source": [
    "from torchvision.datasets import ImageFolder\n",
    "from torch.utils.data import DataLoader\n",
    "\n",
    "# Chemin vers vos dossiers de données\n",
    "train_data_path = images_path\n",
    "val_data_path = images_path_test\n",
    "\n",
    "# Création des datasets\n",
    "train_dataset = ImageFolder(root=train_data_path, transform=train_transforms)\n",
    "val_dataset = ImageFolder(root=val_data_path, transform=val_transforms)\n",
    "\n",
    "# Création des DataLoaders\n",
    "train_loader = DataLoader(train_dataset, batch_size=32, shuffle=True, num_workers=4)\n",
    "val_loader = DataLoader(val_dataset, batch_size=32, shuffle=False, num_workers=4)\n"
   ]
  },
  {
   "cell_type": "code",
   "execution_count": 17,
   "metadata": {},
   "outputs": [],
   "source": [
    "criterion = nn.CrossEntropyLoss()\n",
    "optimizer = Adam(model.parameters(), lr=0.001)\n"
   ]
  },
  {
   "cell_type": "code",
   "execution_count": 18,
   "metadata": {},
   "outputs": [],
   "source": [
    "# Définir la taille du batch\n",
    "batch_size = 8\n",
    "\n",
    "# Créer les DataLoaders pour le training et la validation\n",
    "train_loader = DataLoader(train_dataset, batch_size=batch_size, shuffle=True)\n",
    "val_loader = DataLoader(val_dataset, batch_size=batch_size, shuffle=False)\n"
   ]
  },
  {
   "cell_type": "code",
   "execution_count": 19,
   "metadata": {},
   "outputs": [],
   "source": [
    "def train_model(model, criterion, optimizer, train_loader, val_loader, epochs=10):\n",
    "    train_losses, val_losses, train_accuracy, val_accuracy = [], [], [], []\n",
    "    \n",
    "    for epoch in range(epochs):\n",
    "        model.train()\n",
    "        running_loss = 0.0\n",
    "        correct = 0\n",
    "        total = 0\n",
    "        \n",
    "        for inputs, labels in train_loader:\n",
    "            outputs = model(inputs)\n",
    "            loss = criterion(outputs, labels)\n",
    "            optimizer.zero_grad()\n",
    "            loss.backward()\n",
    "            optimizer.step()\n",
    "            \n",
    "            running_loss += loss.item() * inputs.size(0)\n",
    "            _, predicted = torch.max(outputs.data, 1)\n",
    "            total += labels.size(0)\n",
    "            correct += (predicted == labels).sum().item()\n",
    "\n",
    "        train_losses.append(running_loss / len(train_loader.dataset))\n",
    "        train_accuracy.append(100 * correct / total)\n",
    "\n",
    "        # Validation loss\n",
    "        model.eval()\n",
    "        val_loss = 0.0\n",
    "        correct = 0\n",
    "        total = 0\n",
    "        \n",
    "        with torch.no_grad():\n",
    "            for inputs, labels in val_loader:\n",
    "                outputs = model(inputs)\n",
    "                loss = criterion(outputs, labels)\n",
    "                val_loss += loss.item() * inputs.size(0)\n",
    "                _, predicted = torch.max(outputs.data, 1)\n",
    "                total += labels.size(0)\n",
    "                correct += (predicted == labels).sum().item()\n",
    "        \n",
    "        val_losses.append(val_loss / len(val_loader.dataset))\n",
    "        val_accuracy.append(100 * correct / total)\n",
    "        \n",
    "        print(f'Epoch {epoch+1}, Train Loss: {train_losses[-1]:.4f}, Train Acc: {train_accuracy[-1]:.2f}, Val Loss: {val_losses[-1]:.4f}, Val Acc: {val_accuracy[-1]:.2f}')\n",
    "        \n",
    "    return train_losses, val_losses, train_accuracy, val_accuracy\n"
   ]
  },
  {
   "cell_type": "code",
   "execution_count": 20,
   "metadata": {},
   "outputs": [
    {
     "name": "stdout",
     "output_type": "stream",
     "text": [
      "Epoch 1, Train Loss: 0.8170, Train Acc: 71.25, Val Loss: 0.8183, Val Acc: 71.25\n",
      "Epoch 2, Train Loss: 0.8121, Train Acc: 71.25, Val Loss: 0.7990, Val Acc: 71.25\n",
      "Epoch 3, Train Loss: 0.8141, Train Acc: 71.25, Val Loss: 0.8282, Val Acc: 71.25\n",
      "Epoch 4, Train Loss: 0.8491, Train Acc: 70.49, Val Loss: 0.8745, Val Acc: 65.09\n",
      "Epoch 5, Train Loss: 0.8139, Train Acc: 71.25, Val Loss: 0.7988, Val Acc: 71.25\n",
      "Epoch 6, Train Loss: 0.8064, Train Acc: 71.25, Val Loss: 0.8000, Val Acc: 71.25\n",
      "Epoch 7, Train Loss: 0.8097, Train Acc: 71.25, Val Loss: 0.8038, Val Acc: 71.25\n",
      "Epoch 8, Train Loss: 0.8125, Train Acc: 71.25, Val Loss: 0.8100, Val Acc: 71.25\n",
      "Epoch 9, Train Loss: 0.8171, Train Acc: 71.25, Val Loss: 0.8057, Val Acc: 71.25\n",
      "Epoch 10, Train Loss: 0.8080, Train Acc: 71.25, Val Loss: 0.8014, Val Acc: 71.25\n"
     ]
    },
    {
     "data": {
      "image/png": "[encoded data removed]",
      "text/plain": [
       "<Figure size 1200x500 with 2 Axes>"
      ]
     },
     "metadata": {},
     "output_type": "display_data"
    }
   ],
   "source": [
    "import matplotlib.pyplot as plt\n",
    "\n",
    "def plot_metrics(train_losses, val_losses, train_accuracy, val_accuracy):\n",
    "    epochs = range(1, len(train_losses) + 1)\n",
    "    \n",
    "    plt.figure(figsize=(12, 5))\n",
    "    plt.subplot(1, 2, 1)\n",
    "    plt.plot(epochs, train_losses, 'bo-', label='Training Loss')\n",
    "    plt.plot(epochs, val_losses, 'ro-', label='Validation Loss')\n",
    "    plt.title('Training and Validation Loss')\n",
    "    plt.xlabel('Epochs')\n",
    "    plt.ylabel('Loss')\n",
    "    plt.legend()\n",
    "    \n",
    "    plt.subplot(1, 2, 2)\n",
    "    plt.plot(epochs, train_accuracy, 'bo-', label='Training Accuracy')\n",
    "    plt.plot(epochs, val_accuracy, 'ro-', label='Validation Accuracy')\n",
    "    plt.title('Training and Validation Accuracy')\n",
    "    plt.xlabel('Epochs')\n",
    "    plt.ylabel('Accuracy')\n",
    "    plt.legend()\n",
    "    \n",
    "    plt.tight_layout()\n",
    "    plt.show()\n",
    "\n",
    "try:\n",
    "    train_model(model, criterion, optimizer, train_loader, val_loader, epochs=10)\n",
    "    train_losses, val_losses, train_accuracy, val_accuracy = [], [], [], []\n",
    "except Exception as e:\n",
    "    print(f\"Une erreur est survenue : {e}\")\n",
    "    \n",
    "# Utilisez cette fonction après votre entraînement pour afficher les graphiques\n",
    "train_losses, val_losses, train_accuracy, val_accuracy = train_model(model, criterion, optimizer, train_loader, val_loader, epochs=4)\n",
    "plot_metrics(train_losses, val_losses, train_accuracy, val_accuracy)"
   ]
  },
  {
   "cell_type": "markdown",
   "metadata": {},
   "source": [
    "# VGG16"
   ]
  },
  {
   "cell_type": "markdown",
   "metadata": {},
   "source": [
    "## Création du modèle de classification"
   ]
  },
  {
   "cell_type": "code",
   "execution_count": null,
   "metadata": {},
   "outputs": [],
   "source": [
    "def process_image(file_path):\n",
    "    # Lire l'image en mode couleur, réduction de bruit et amélioration du contraste\n",
    "    img = cv2.imread(file_path, cv2.IMREAD_COLOR)\n",
    "    img = cv2.resize(img, (224, 224))  # Redimensionnement pour VGG16\n",
    "    img = cv2.bilateralFilter(img, d=9, sigmaColor=75, sigmaSpace=75)  # Réduction de bruit\n",
    "    lab = cv2.cvtColor(img, cv2.COLOR_BGR2LAB)\n",
    "    l, a, b = cv2.split(lab)\n",
    "    clahe = cv2.createCLAHE(clipLimit=3.0, tileGridSize=(8,8))\n",
    "    cl = clahe.apply(l)\n",
    "    limg = cv2.merge((cl,a,b))\n",
    "    final_img = cv2.cvtColor(limg, cv2.COLOR_LAB2BGR)\n",
    "    return final_img"
   ]
  },
  {
   "cell_type": "code",
   "execution_count": null,
   "metadata": {},
   "outputs": [],
   "source": [
    "def create_model_fct() :\n",
    "    # Récupération modèle pré-entraîné\n",
    "    model0 = VGG16(include_top=False, weights=\"imagenet\", input_shape=(224, 224, 3))\n",
    "\n",
    "    # Layer non entraînables = on garde les poids du modèle pré-entraîné\n",
    "    for layer in model0.layers:\n",
    "        layer.trainable = False\n",
    "\n",
    "    # Récupérer la sortie de ce réseau\n",
    "    x = model0.output\n",
    "    # Compléter le modèle\n",
    "    x = GlobalAveragePooling2D()(x)\n",
    "    x = Dense(256, activation='relu')(x)\n",
    "    x = Dropout(0.5)(x)\n",
    "    predictions = Dense(7, activation='softmax')(x)\n",
    "\n",
    "    # Définir le nouveau modèle\n",
    "    model = Model(inputs=model0.input, outputs=predictions)\n",
    "    # compilation du modèle \n",
    "    model.compile(loss=\"categorical_crossentropy\", optimizer='rmsprop', metrics=[\"accuracy\"])\n",
    "\n",
    "    print(model.summary())\n",
    "    \n",
    "    return model\n",
    "    "
   ]
  },
  {
   "cell_type": "markdown",
   "metadata": {},
   "source": [
    "## Approche nouvelle par Dataset sans data augmentation\n"
   ]
  },
  {
   "cell_type": "code",
   "execution_count": null,
   "metadata": {},
   "outputs": [],
   "source": [
    "import pandas as pd\n",
    "import os\n",
    "from glob import glob\n",
    "from sklearn import preprocessing\n",
    "\n",
    "# Chemin vers le fichier CSV contenant les données de catégories\n",
    "csv_path = 'C:/Users/DELL/Desktop/OpenClass/Formation/Projet_006/Dataset_projet_pretraitement_textes_images/Flipkart/flipkart_com-ecommerce_sample_1050_Champ.csv'\n",
    "\n",
    "# Chargement du DataFrame qui contient les informations des produits, y compris 'product_category_tree'\n",
    "df_categories = pd.read_csv(csv_path)\n",
    "\n",
    "# Fonction pour extraire la première catégorie de 'product_category_tree'\n",
    "def get_first_category(category_tree):\n",
    "    if category_tree.startswith('[\"'):\n",
    "        categories = category_tree[2:-2].split(' >> ')\n",
    "        if categories:\n",
    "            return categories[0]\n",
    "    return None\n",
    "\n",
    "# Appliquer la fonction pour créer une nouvelle colonne 'first_category'\n",
    "df_categories['first_category'] = df_categories['product_category_tree'].apply(get_first_category)\n",
    "\n",
    "# Chemin vers le dossier des images\n",
    "images_path = 'C:/Users/DELL/Desktop/OpenClass/Formation/Projet_006/Dataset_projet_pretraitement_textes_images/Flipkart/Images2/'\n",
    "images_path_test = 'C:/Users/DELL/Desktop/OpenClass/Formation/Projet_006/Dataset_projet_pretraitement_textes_images/Flipkart/Images3/'\n",
    "\n",
    "# Récupération des chemins des images\n",
    "data_path = glob(os.path.join(images_path, '*.jpg'))\n",
    "data_path_test = glob(os.path.join(images_path_test, '*.jpg'))\n",
    "\n",
    "# Création d'un DataFrame pour les chemins des images avec leur uniq_id\n",
    "df_images = pd.DataFrame({\n",
    "    'image_path': data_path,\n",
    "    'uniq_id': [os.path.splitext(os.path.basename(path))[0] for path in data_path]\n",
    "})\n",
    "df_images_test = pd.DataFrame({\n",
    "    'image_path': data_path_test,\n",
    "    'uniq_id': [os.path.splitext(os.path.basename(path))[0] for path in data_path]\n",
    "})\n",
    "# Fonction pour obtenir la catégorie à partir de l'identifiant unique\n",
    "def photo_class(uniq_id):\n",
    "    category = df_categories.loc[df_categories['uniq_id'] == uniq_id, 'first_category'].values\n",
    "    if category.size > 0:\n",
    "        return category[0]\n",
    "    return \"no_name\"\n",
    "\n",
    "# Liste des catégories valides\n",
    "list_labels = [\"Baby Care\", \"Beauty and Personal Care\", \"Computers\", \"Home Decor & Festive Needs\", \"Home Furnishing\", \"Kitchen & Dining\", \"Watches\"]\n",
    "\n",
    "# Associer les catégories aux images\n",
    "df_images['label_name'] = df_images['uniq_id'].apply(photo_class)\n",
    "df_images_test['label_name'] = df_images_test['uniq_id'].apply(photo_class)\n",
    "\n",
    "# Encoder les labels\n",
    "le = preprocessing.LabelEncoder()\n",
    "le.fit(df_images['label_name'])\n",
    "df_images['label'] = le.transform(df_images['label_name'])\n",
    "le.fit(df_images_test['label_name'])\n",
    "df_images_test['label'] = le.transform(df_images_test['label_name'])\n",
    "\n",
    "# Vérification des données finales\n",
    "print(df_images.head())\n",
    "print(df_images_test.head())\n",
    "# Maintenant, df_images contient le chemin de chaque image, son uniq_id, le nom de la catégorie, et la catégorie encodée.\n",
    "# Ce DataFrame est prêt pour tout traitement d'image supplémentaire ou pour être utilisé pour l'entraînement de modèles.\n"
   ]
  },
  {
   "cell_type": "code",
   "execution_count": null,
   "metadata": {},
   "outputs": [],
   "source": [
    "batch_size = 32\n",
    "\n",
    "def dataset_fct(images_path, validation_split=0, data_type=None) :\n",
    "    dataset = tf.keras.utils.image_dataset_from_directory(\n",
    "                    images_path, labels='inferred', label_mode='categorical',\n",
    "                    class_names=None, batch_size=32, image_size=(224, 224), shuffle=True, seed=42,\n",
    "                    validation_split=validation_split, subset=data_type\n",
    "                    )\n",
    "    return dataset"
   ]
  },
  {
   "cell_type": "code",
   "execution_count": null,
   "metadata": {},
   "outputs": [],
   "source": [
    "dataset_train = dataset_fct(images_path, validation_split=0.25, data_type='training')\n",
    "dataset_val = dataset_fct(images_path, validation_split=0.25, data_type='validation')\n",
    "dataset_test = dataset_fct(images_path_test, validation_split=0, data_type=None)"
   ]
  },
  {
   "cell_type": "code",
   "execution_count": null,
   "metadata": {},
   "outputs": [],
   "source": [
    "def create_model_fct2() :\n",
    "    # Récupération modèle pré-entraîné\n",
    "    model0 = VGG16(include_top=False, weights=\"imagenet\", input_shape=(224, 224, 3))\n",
    "\n",
    "    # Layer non entraînables = on garde les poids du modèle pré-entraîné\n",
    "    for layer in model0.layers:\n",
    "        layer.trainable = False\n",
    "\n",
    "    # Récupérer la sortie de ce réseau\n",
    "    x = model0.output\n",
    "    # Compléter le modèle\n",
    "    x = GlobalAveragePooling2D()(x)\n",
    "    x = Dense(256, activation='relu')(x)\n",
    "    x = Dropout(0.5)(x)\n",
    "    predictions = Dense(3, activation='softmax')(x)\n",
    "\n",
    "    # Définir le nouveau modèle\n",
    "    model = Model(inputs=model0.input, outputs=predictions)\n",
    "    # compilation du modèle \n",
    "    model.compile(loss=\"categorical_crossentropy\", optimizer='rmsprop', metrics=[\"accuracy\"])\n",
    "\n",
    "    print(model.summary())\n",
    "    \n",
    "    return model\n",
    "    "
   ]
  },
  {
   "cell_type": "code",
   "execution_count": null,
   "metadata": {},
   "outputs": [],
   "source": [
    "# Création du modèle\n",
    "with tf.device('/gpu:0'): \n",
    "    model3 = create_model_fct2()\n",
    "\n",
    "# Création du callback\n",
    "model3_save_path = \"./model3_best_weights.keras\"\n",
    "checkpoint = ModelCheckpoint(model3_save_path, monitor='val_loss', verbose=1, save_best_only=True, mode='min')\n",
    "es = EarlyStopping(monitor='val_loss', mode='min', verbose=1, patience=5)\n",
    "callbacks_list = [checkpoint, es]\n"
   ]
  },
  {
   "cell_type": "code",
   "execution_count": null,
   "metadata": {},
   "outputs": [],
   "source": [
    "print(\"Num GPUs Available: \", len(tf.config.list_physical_devices('GPU')))\n"
   ]
  },
  {
   "cell_type": "code",
   "execution_count": null,
   "metadata": {},
   "outputs": [],
   "source": [
    "with tf.device('/gpu:0'): \n",
    "    history3 = model3.fit(dataset_train,\n",
    "                    validation_data=dataset_val,\n",
    "                    batch_size=batch_size, epochs=50, callbacks=callbacks_list, verbose=1)\n"
   ]
  },
  {
   "cell_type": "code",
   "execution_count": null,
   "metadata": {},
   "outputs": [],
   "source": [
    "# Score du dernier epoch\n",
    "\n",
    "loss, accuracy = model3.evaluate(dataset_train, verbose=True)\n",
    "print(\"Training Accuracy   : {:.4f}\".format(accuracy))\n",
    "print()\n",
    "loss, accuracy = model3.evaluate(dataset_val, verbose=True)\n",
    "print(\"Validation Accuracy :  {:.4f}\".format(accuracy))"
   ]
  },
  {
   "cell_type": "code",
   "execution_count": null,
   "metadata": {},
   "outputs": [],
   "source": [
    "# Score de l'epoch optimal\n",
    "\n",
    "model3.load_weights(model3_save_path)\n",
    "\n",
    "loss, accuracy = model3.evaluate(dataset_val, verbose=False)\n",
    "print(\"Validation Accuracy :  {:.4f}\".format(accuracy))\n",
    "\n",
    "loss, accuracy = model3.evaluate(dataset_test, verbose=False)\n",
    "print(\"Test Accuracy       :  {:.4f}\".format(accuracy))\n"
   ]
  },
  {
   "cell_type": "code",
   "execution_count": null,
   "metadata": {},
   "outputs": [],
   "source": [
    "from plot_keras_history import show_history, plot_history\n",
    "import matplotlib.pyplot as plt\n",
    "\n",
    "show_history(history3)\n",
    "plot_history(history3, path=\"standard.png\")\n",
    "plt.close()"
   ]
  },
  {
   "cell_type": "markdown",
   "metadata": {},
   "source": [
    "## Approche nouvelle par Dataset avec data augmentation intégrée au modèle\n"
   ]
  },
  {
   "cell_type": "code",
   "execution_count": null,
   "metadata": {},
   "outputs": [],
   "source": [
    "batch_size = 32\n",
    "\n",
    "def dataset_fct(path, validation_split=0, data_type=None) :\n",
    "    dataset = tf.keras.utils.image_dataset_from_directory(\n",
    "                    path, labels='inferred', label_mode='categorical',\n",
    "                    class_names=None, batch_size=batch_size, image_size=(224, 224), shuffle=True, seed=42,\n",
    "                    validation_split=validation_split, subset=data_type\n",
    "                    )\n",
    "    return dataset"
   ]
  },
  {
   "cell_type": "code",
   "execution_count": null,
   "metadata": {},
   "outputs": [],
   "source": [
    "dataset_train = dataset_fct(images_path, validation_split=0.25, data_type='training')\n",
    "dataset_val = dataset_fct(images_path, validation_split=0.25, data_type='validation')\n",
    "dataset_test = dataset_fct(images_path_test, validation_split=0, data_type=None)"
   ]
  },
  {
   "cell_type": "code",
   "execution_count": null,
   "metadata": {},
   "outputs": [],
   "source": [
    "def resize_and_rescale(image, label):\n",
    "    image = tf.cast(image, tf.float32)\n",
    "    image = tf.image.resize(image, [IMG_SIZE, IMG_SIZE])\n",
    "    image = (image / 255.0)\n",
    "    return image, label\n",
    "\n"
   ]
  },
  {
   "cell_type": "code",
   "execution_count": null,
   "metadata": {},
   "outputs": [],
   "source": [
    "def create_model_fct3() :\n",
    "    # Data augmentation\n",
    "    data_augmentation = Sequential([\n",
    "        RandomFlip(\"horizontal\", input_shape=(224, 224, 3)),\n",
    "        RandomRotation(0.1),\n",
    "        RandomZoom(0.1),\n",
    "      ])\n",
    "    \n",
    "    # Récupération modèle pré-entraîné\n",
    "    model_base = VGG16(include_top=False, weights=\"imagenet\", input_shape=(224, 224, 3))\n",
    "    for layer in model_base.layers:\n",
    "        layer.trainable = False\n",
    "\n",
    "    # Définition du nouveau modèle\n",
    "    model = Sequential([\n",
    "                data_augmentation,\n",
    "                Rescaling(1./127.5, offset=-1),\n",
    "                model_base,\n",
    "                GlobalAveragePooling2D(),\n",
    "                Dense(256, activation='relu'),\n",
    "                Dropout(0.4),\n",
    "                Dense(3, activation='softmax')\n",
    "                ])\n",
    "\n",
    "    # compilation du modèle \n",
    "    model.compile(loss=\"categorical_crossentropy\", optimizer='adam', metrics=[\"accuracy\"])\n",
    "\n",
    "    print(model.summary())\n",
    "    \n",
    "    return model\n",
    "    "
   ]
  },
  {
   "cell_type": "code",
   "execution_count": null,
   "metadata": {},
   "outputs": [],
   "source": [
    "# Création du modèle\n",
    "with tf.device('/gpu:0'): \n",
    "    model4 = create_model_fct3()\n",
    "\n",
    "# Création du callback\n",
    "model4_save_path = \"./model4_best_weights.keras\"\n",
    "checkpoint = ModelCheckpoint(model4_save_path, monitor='val_loss', verbose=1, save_best_only=True, mode='min')\n",
    "es = EarlyStopping(monitor='val_loss', mode='min', verbose=1, patience=8)\n",
    "callbacks_list = [checkpoint, es]\n"
   ]
  },
  {
   "cell_type": "code",
   "execution_count": null,
   "metadata": {},
   "outputs": [],
   "source": [
    "print(\"Num GPUs Available: \", len(tf.config.list_physical_devices('GPU')))\n"
   ]
  },
  {
   "cell_type": "code",
   "execution_count": null,
   "metadata": {},
   "outputs": [],
   "source": [
    "with tf.device('/gpu:0'): \n",
    "    history4 = model4.fit(dataset_train,\n",
    "                    validation_data=dataset_val,\n",
    "                    batch_size=batch_size, epochs=50, callbacks=callbacks_list, verbose=1)\n"
   ]
  },
  {
   "cell_type": "code",
   "execution_count": null,
   "metadata": {},
   "outputs": [],
   "source": [
    "# Score du dernier epoch\n",
    "\n",
    "loss, accuracy = model4.evaluate(dataset_train, verbose=True)\n",
    "print(\"Training Accuracy   : {:.4f}\".format(accuracy))\n",
    "print()\n",
    "loss, accuracy = model4.evaluate(dataset_val, verbose=True)\n",
    "print(\"Validation Accuracy :  {:.4f}\".format(accuracy))"
   ]
  },
  {
   "cell_type": "code",
   "execution_count": null,
   "metadata": {},
   "outputs": [],
   "source": [
    "# Score de l'epoch optimal\n",
    "\n",
    "model4.load_weights(model4_save_path)\n",
    "\n",
    "loss, accuracy = model4.evaluate(dataset_val, verbose=False)\n",
    "print(\"Validation Accuracy :  {:.4f}\".format(accuracy))\n",
    "\n",
    "loss, accuracy = model4.evaluate(dataset_test, verbose=False)\n",
    "print(\"Test Accuracy       :  {:.4f}\".format(accuracy))\n"
   ]
  },
  {
   "cell_type": "code",
   "execution_count": null,
   "metadata": {},
   "outputs": [],
   "source": [
    "from plot_keras_history import show_history, plot_history\n",
    "import matplotlib.pyplot as plt\n",
    "\n",
    "show_history(history4)\n",
    "plot_history(history4, path=\"standard.png\")\n",
    "plt.close()"
   ]
  }
 ],
 "metadata": {
  "hide_input": false,
  "kernelspec": {
   "display_name": "Python 3 (ipykernel)",
   "language": "python",
   "name": "python3"
  },
  "language_info": {
   "codemirror_mode": {
    "name": "ipython",
    "version": 3
   },
   "file_extension": ".py",
   "mimetype": "text/x-python",
   "name": "python",
   "nbconvert_exporter": "python",
   "pygments_lexer": "ipython3",
   "version": "3.11.8"
  },
  "toc": {
   "base_numbering": 1,
   "nav_menu": {},
   "number_sections": true,
   "sideBar": true,
   "skip_h1_title": false,
   "title_cell": "Table of Contents",
   "title_sidebar": "Contents",
   "toc_cell": false,
   "toc_position": {
    "height": "calc(100% - 180px)",
    "left": "10px",
    "top": "150px",
    "width": "256px"
   },
   "toc_section_display": true,
   "toc_window_display": true
  },
  "varInspector": {
   "cols": {
    "lenName": 16,
    "lenType": 16,
    "lenVar": 40
   },
   "kernels_config": {
    "python": {
     "delete_cmd_postfix": "",
     "delete_cmd_prefix": "del ",
     "library": "var_list.py",
     "varRefreshCmd": "print(var_dic_list())"
    },
    "r": {
     "delete_cmd_postfix": ") ",
     "delete_cmd_prefix": "rm(",
     "library": "var_list.r",
     "varRefreshCmd": "cat(var_dic_list()) "
    }
   },
   "types_to_exclude": [
    "module",
    "function",
    "builtin_function_or_method",
    "instance",
    "_Feature"
   ],
   "window_display": false
  }
 },
 "nbformat": 4,
 "nbformat_minor": 4
}
